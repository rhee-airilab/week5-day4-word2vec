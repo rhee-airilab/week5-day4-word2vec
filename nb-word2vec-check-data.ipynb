{
 "cells": [
  {
   "cell_type": "code",
   "execution_count": null,
   "metadata": {
    "collapsed": true
   },
   "outputs": [],
   "source": [
    "\"\"\" word2vec with NCE loss \n",
    "and code to visualize the embeddings on TensorBoard\n",
    "\"\"\"\n",
    "from __future__ import print_function, division, absolute_import\n",
    "\n",
    "import os\n",
    "\n",
    "import numpy as np\n",
    "from tensorflow.contrib.tensorboard.plugins import projector\n",
    "import tensorflow as tf"
   ]
  },
  {
   "cell_type": "code",
   "execution_count": null,
   "metadata": {
    "collapsed": true
   },
   "outputs": [],
   "source": [
    "from process_data import process_data\n",
    "\n",
    "make_batch_gen = lambda: process_data(NPY_FILENAME, VOCAB_SIZE, BATCH_SIZE, SKIP_WINDOW, MAX_NPY_WORDS)"
   ]
  },
  {
   "cell_type": "code",
   "execution_count": null,
   "metadata": {
    "collapsed": true
   },
   "outputs": [],
   "source": [
    "# === VOCAB_SIZE === 50001 (include UNK) # 100001 ( UNK 포함 )\n",
    "VOCAB_SIZE = 50001\n",
    "BATCH_SIZE = 128\n",
    "EMBED_SIZE = 200  # 128  # dimension of the word embedding vectors\n",
    "SKIP_WINDOW = 5  # the context window\n",
    "NUM_SAMPLED = 64    # Number of negative examples to sample.\n",
    "LEARNING_RATE = 0.2\n",
    "\n",
    "USE_L2_NORM = False\n",
    "\n",
    "NPY_FILENAME  = 'text17.npy'\n",
    "MAX_NPY_WORDS = 188333610 - 100 # max words in textNN.npy\n",
    "\n",
    "VOCAB_FILENAME = 'vocab_50k.tsv'\n",
    "VOCAB_SEP      = '|'\n",
    "\n",
    "\n",
    "# NUM_TRAIN_STEPS = 100000 # 10000\n",
    "NUM_TRAIN_STEPS = MAX_NPY_WORDS * 20 # 290000 # 10000 # 아래 \"특이사항\" 참고\n",
    "SKIP_STEP = 50000 # 20000  # how many steps to skip before reporting the loss"
   ]
  },
  {
   "cell_type": "code",
   "execution_count": null,
   "metadata": {
    "collapsed": true
   },
   "outputs": [],
   "source": [
    "#coding: utf-8\n",
    "\n",
    "from __future__ import absolute_import\n",
    "from __future__ import division\n",
    "from __future__ import print_function\n",
    "\n",
    "from collections import Counter\n",
    "import sys\n",
    "import random\n",
    "import os\n",
    "import zipfile\n",
    "\n",
    "import numpy as np\n",
    "\n",
    "import h5py\n",
    "\n",
    "import tensorflow as tf\n",
    "\n",
    "\n",
    "index_words = np.memmap(NPY_FILENAME,dtype='int64',mode='r+')\n",
    "# assert np.all(index_words < 50001), np.where(index_words >= 50001)\n",
    "\n",
    "index_words.shape"
   ]
  },
  {
   "cell_type": "code",
   "execution_count": null,
   "metadata": {
    "collapsed": true
   },
   "outputs": [],
   "source": [
    "%matplotlib inline\n",
    "import matplotlib.pyplot as plt"
   ]
  },
  {
   "cell_type": "code",
   "execution_count": null,
   "metadata": {
    "collapsed": true
   },
   "outputs": [],
   "source": [
    "?plt.hist"
   ]
  },
  {
   "cell_type": "code",
   "execution_count": null,
   "metadata": {
    "collapsed": true
   },
   "outputs": [],
   "source": [
    "plt.hist(index_words, log=True)"
   ]
  },
  {
   "cell_type": "code",
   "execution_count": null,
   "metadata": {
    "collapsed": true
   },
   "outputs": [],
   "source": [
    "np.amax(index_words), np.amin(index_words)"
   ]
  },
  {
   "cell_type": "code",
   "execution_count": null,
   "metadata": {
    "collapsed": true
   },
   "outputs": [],
   "source": []
  },
  {
   "cell_type": "code",
   "execution_count": null,
   "metadata": {
    "ExecuteTime": {
     "end_time": "2017-10-12T12:42:49.941604Z",
     "start_time": "2017-10-12T12:42:48.759968Z"
    },
    "collapsed": true
   },
   "outputs": [],
   "source": [
    "\"\"\" word2vec with NCE loss \n",
    "and code to visualize the embeddings on TensorBoard\n",
    "\"\"\"\n",
    "from __future__ import print_function, division, absolute_import\n",
    "\n",
    "import os\n",
    "\n",
    "import numpy as np\n",
    "from tensorflow.contrib.tensorboard.plugins import projector\n",
    "import tensorflow as tf"
   ]
  },
  {
   "cell_type": "code",
   "execution_count": 7,
   "metadata": {
    "ExecuteTime": {
     "end_time": "2017-10-12T12:53:26.268750Z",
     "start_time": "2017-10-12T12:53:26.173557Z"
    },
    "scrolled": false
   },
   "outputs": [],
   "source": [
    "vocab_list = []\n",
    "vocab_freq = dict()\n",
    "freq_list = []\n",
    "with open('vocab_50k.tsv') as f:\n",
    "    for line in f.xreadlines():\n",
    "        k, v = line.strip().split('|')\n",
    "        v    = int(v)\n",
    "        vocab_list.append((k,v))\n",
    "        vocab_freq[k] = v\n",
    "        freq_list.append(v)\n",
    "# freq_list"
   ]
  },
  {
   "cell_type": "code",
   "execution_count": 8,
   "metadata": {
    "ExecuteTime": {
     "end_time": "2017-10-12T12:53:27.719977Z",
     "start_time": "2017-10-12T12:53:27.441773Z"
    },
    "collapsed": true
   },
   "outputs": [],
   "source": [
    "%matplotlib inline\n",
    "import matplotlib.pyplot as plt"
   ]
  },
  {
   "cell_type": "code",
   "execution_count": 19,
   "metadata": {
    "ExecuteTime": {
     "end_time": "2017-10-12T12:57:13.568002Z",
     "start_time": "2017-10-12T12:57:13.062491Z"
    },
    "scrolled": true
   },
   "outputs": [
    {
     "data": {
      "text/plain": [
       "<Container object of 199 artists>"
      ]
     },
     "execution_count": 19,
     "metadata": {},
     "output_type": "execute_result"
    },
    {
     "data": {
      "image/png": "[encoded data removed]",
      "text/plain": [
       "<matplotlib.figure.Figure at 0x7fc89efd4950>"
      ]
     },
     "metadata": {},
     "output_type": "display_data"
    }
   ],
   "source": [
    "f = freq_list[:199]\n",
    "l = len(f)\n",
    "plt.bar(range(l), f)"
   ]
  },
  {
   "cell_type": "code",
   "execution_count": 14,
   "metadata": {
    "ExecuteTime": {
     "end_time": "2017-10-12T12:54:44.408236Z",
     "start_time": "2017-10-12T12:54:44.397360Z"
    }
   },
   "outputs": [
    {
     "data": {
      "text/plain": [
       "[-1,\n",
       " 13642345,\n",
       " 11623000,\n",
       " 5759558,\n",
       " 3968537,\n",
       " 2821834,\n",
       " 2276173,\n",
       " 2203254,\n",
       " 1579732,\n",
       " 1542032]"
      ]
     },
     "execution_count": 14,
     "metadata": {},
     "output_type": "execute_result"
    }
   ],
   "source": [
    "f"
   ]
  },
  {
   "cell_type": "code",
   "execution_count": 16,
   "metadata": {
    "ExecuteTime": {
     "end_time": "2017-10-12T12:55:27.647570Z",
     "start_time": "2017-10-12T12:55:27.515252Z"
    }
   },
   "outputs": [
    {
     "name": "stdout",
     "output_type": "stream",
     "text": [
      "UNK|-1\r\n",
      "하|13642345\r\n",
      "이|11623000\r\n",
      "있|5759558\r\n",
      "되|3968537\r\n",
      "것|2821834\r\n",
      "수|2276173\r\n",
      "들|2203254\r\n",
      "보|1579732\r\n",
      "않|1542032\r\n",
      "없|1512106\r\n",
      "적|1490806\r\n",
      "년|1442500\r\n",
      "지|1334300\r\n",
      "주|1330907\r\n",
      "그|1141599\r\n",
      "말|1055286\r\n",
      "때문|1036804\r\n",
      "때|1007790\r\n",
      "아니|910671\r\n",
      "등|885430\r\n",
      "중|883856\r\n",
      "가|837969\r\n",
      "나오|818166\r\n",
      "경우|805228\r\n",
      "받|793236\r\n",
      "1|768671\r\n",
      "오|745978\r\n",
      "크|726172\r\n",
      "2|697839\r\n",
      "보이|686578\r\n",
      "같|678108\r\n",
      "자신|652138\r\n",
      "내|645126\r\n",
      "사람|634242\r\n",
      "사용|601564\r\n",
      "이후|597472\r\n",
      "많|595818\r\n",
      "정도|594158\r\n",
      "번|581530\r\n",
      "쓰|579770\r\n",
      "대하|575554\r\n",
      "위하|559966\r\n",
      "후|546128\r\n",
      "일|540972\r\n",
      "나|540472\r\n",
      "3|513411\r\n",
      "시|509227\r\n",
      "만들|508302\r\n",
      "좋|506614\r\n",
      "가지|495958\r\n",
      "공격|483446\r\n",
      "위|483438\r\n",
      "전|482200\r\n",
      "알|477444\r\n"
     ]
    }
   ],
   "source": [
    "!head -55 vocab_50k.tsv"
   ]
  },
  {
   "cell_type": "code",
   "execution_count": null,
   "metadata": {
    "collapsed": true
   },
   "outputs": [],
   "source": []
  }
 ],
 "metadata": {
  "kernelspec": {
   "display_name": "Python 2",
   "language": "python",
   "name": "python2"
  },
  "language_info": {
   "codemirror_mode": {
    "name": "ipython",
    "version": 2
   },
   "file_extension": ".py",
   "mimetype": "text/x-python",
   "name": "python",
   "nbconvert_exporter": "python",
   "pygments_lexer": "ipython2",
   "version": "2.7.13"
  }
 },
 "nbformat": 4,
 "nbformat_minor": 2
}
