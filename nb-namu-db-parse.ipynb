{
 "cells": [
  {
   "cell_type": "markdown",
   "metadata": {},
   "source": [
    "# Namu Wiki JSON DB file parsing"
   ]
  },
  {
   "cell_type": "markdown",
   "metadata": {},
   "source": [
    "## Reading DB Dump File"
   ]
  },
  {
   "cell_type": "code",
   "execution_count": 3,
   "metadata": {
    "ExecuteTime": {
     "end_time": "2017-10-12T13:17:13.047662Z",
     "start_time": "2017-10-12T13:17:13.044258Z"
    },
    "collapsed": true,
    "scrolled": false
   },
   "outputs": [],
   "source": [
    "import json\n",
    "import pickle\n",
    "from pprint import pprint\n",
    "\n",
    "# filename = 'namuwiki_170327.json' \n",
    "\n",
    "# # Read file to memory, it takes some time.\n",
    "# with open(filename) as data_file:    \n",
    "#     data = json.load(data_file)\n",
    "\n",
    "# with open('namuwiki.pickle','wb') as pickle_file:\n",
    "#     pickle.dump(pickle_file,data)"
   ]
  },
  {
   "cell_type": "code",
   "execution_count": 4,
   "metadata": {
    "ExecuteTime": {
     "end_time": "2017-10-12T13:18:58.212694Z",
     "start_time": "2017-10-12T13:17:14.228495Z"
    }
   },
   "outputs": [],
   "source": [
    "with open('namuwiki.pickle') as f: data = pickle.load(f)"
   ]
  },
  {
   "cell_type": "markdown",
   "metadata": {},
   "source": [
    "## Data Exploration"
   ]
  },
  {
   "cell_type": "code",
   "execution_count": 5,
   "metadata": {
    "ExecuteTime": {
     "end_time": "2017-10-12T13:19:02.836103Z",
     "start_time": "2017-10-12T13:19:02.831540Z"
    }
   },
   "outputs": [
    {
     "name": "stdout",
     "output_type": "stream",
     "text": [
      "('number of articles:', 931029)\n",
      "The first article is:\n",
      "{u'text': u'#redirect \\ub290\\ub08c\\ud45c\\n', u'namespace': u'0', u'contributors': [u'namubot', u'R:hoon12560'], u'title': u'!'}\n"
     ]
    }
   ],
   "source": [
    "# data is list of articles\n",
    "# Let's see how many articles in the database\n",
    "print(\"number of articles:\", len(data)) \n",
    "\n",
    "# Let's see the first article\n",
    "print(\"The first article is:\")\n",
    "print(data[0])"
   ]
  },
  {
   "cell_type": "code",
   "execution_count": 6,
   "metadata": {
    "ExecuteTime": {
     "end_time": "2017-10-12T13:19:04.676639Z",
     "start_time": "2017-10-12T13:19:04.674692Z"
    },
    "collapsed": true
   },
   "outputs": [],
   "source": [
    "x = data[201704]"
   ]
  },
  {
   "cell_type": "code",
   "execution_count": 7,
   "metadata": {
    "ExecuteTime": {
     "end_time": "2017-10-12T13:19:05.513946Z",
     "start_time": "2017-10-12T13:19:05.503291Z"
    }
   },
   "outputs": [
    {
     "data": {
      "text/plain": [
       "[u'text', u'namespace', u'contributors', u'title']"
      ]
     },
     "execution_count": 7,
     "metadata": {},
     "output_type": "execute_result"
    }
   ],
   "source": [
    "x.keys()"
   ]
  },
  {
   "cell_type": "code",
   "execution_count": 8,
   "metadata": {
    "ExecuteTime": {
     "end_time": "2017-10-12T13:19:15.482776Z",
     "start_time": "2017-10-12T13:19:15.118134Z"
    }
   },
   "outputs": [
    {
     "data": {
      "text/plain": [
       "{u'0': 1, u'1': 1, u'2': 1, u'3': 1, u'4': 1, u'6': 1}"
      ]
     },
     "execution_count": 8,
     "metadata": {},
     "output_type": "execute_result"
    }
   ],
   "source": [
    "ns = {e['namespace']:1 for e in data}\n",
    "ns"
   ]
  },
  {
   "cell_type": "code",
   "execution_count": 9,
   "metadata": {
    "ExecuteTime": {
     "end_time": "2017-10-12T13:19:21.977219Z",
     "start_time": "2017-10-12T13:19:21.453955Z"
    },
    "collapsed": true
   },
   "outputs": [],
   "source": [
    "ts = {e['title']:1 for e in data}"
   ]
  },
  {
   "cell_type": "code",
   "execution_count": 10,
   "metadata": {
    "ExecuteTime": {
     "end_time": "2017-10-12T13:19:23.063788Z",
     "start_time": "2017-10-12T13:19:22.987816Z"
    }
   },
   "outputs": [
    {
     "name": "stdout",
     "output_type": "stream",
     "text": [
      "저승사자 고즈\n"
     ]
    }
   ],
   "source": [
    "print(ts.keys()[2])"
   ]
  },
  {
   "cell_type": "code",
   "execution_count": 11,
   "metadata": {
    "ExecuteTime": {
     "end_time": "2017-10-12T13:19:27.833058Z",
     "start_time": "2017-10-12T13:19:27.802865Z"
    }
   },
   "outputs": [
    {
     "name": "stdout",
     "output_type": "stream",
     "text": [
      "===== key =====\n",
      "text\n",
      "===== val =====\n",
      "|||||||||| [[만포선]] ||<|2>'''관리 주체''' : [[조선민주주의인민공화국]] 철도성[br]'''소속''' : 개천철도총국 ||\n",
      "||<width=88px> [[순천역(평안남도)|순　천]] 방면[br][[운송역|운　송]] || {{{+1 ←}}} ||<width=60px> 전　천 || {{{+1 →}}} ||<width=88px> [[만포청년역|만포청년]] 방면[br][[화암역|화　암]] ||\n",
      "\n",
      "{{{+1 前川驛 / Jŏnchŏn Station }}}\n",
      "\n",
      "[[만포선]]의 철도역. [[자강도]] [[전천군]] 전천읍 소재.\n",
      "\n",
      "전천군이 비록 북한 체제하에서 1949년에 만들어진 군이기는 하지만, 전천이라는 지명은 강계군 전천면이라는 이름으로 일제 강점기부터 내려오고 있었다. 이 전천면의 중심지를 전천군의 중심지로 둔 것. 지도를 보면 구 전천면이 동서로 길게 있는 주제에 현 전천읍은 구 전천면의 남동쪽 끄트머리에 위치해 있는 것을 알 수 있는데, 이것은 전천면 서쪽이 모조리 산지이기 때문.\n",
      "\n",
      "고도 50km 정도에서 이 일대의 위성 사진을 보면 [[장자강]](將子江, 독로강이라고도 함)을 따라서 하얀 부분(=나무가 없는 부분, 즉 경작지 또는 민가)이 쭉 이어져 있는 것을 알 수 있다. 전천읍도 그 중에 있고.\n",
      "\n",
      "군의 중심지이기 때문인지 민가 및 수요는 상당한 편이라고 할 수 있다. 다만 그만큼 산림의 파괴가 극심한 것이 문제. 다른 마을보다 훨씬 파괴된 면적이 넓다. 자강도의 산지에 있는 군답게 주로 목재를 가공해서 먹고 산다고 한다. [[강계]]까지는 북쪽으로 55km.\n",
      "\n",
      "승강장은 2면 5선으로 규모가 좀 있는 편이다. 인입선이 [[운송역]] 방향으로 나 있는데, 목재를 수송하기 위한 목적으로 보인다.\n",
      "\n",
      "[[순천역(평안남도)|순천역]] 기점 195.4km. [[점촌역]] 구내에 있는 철도거리표에는 203.1km로 나와 있지만, 결론부터 말해서 신뢰할 수 없다. 해당 지점에도 역이 하나 있기는 한데 그건 [[화암역]]. 게다가 역세권의 크기부터 차이가 난다. 화암역 쪽의 역세권도 노동자구를 끼고 있기 때문에 상당히 크나(물론 상대적인 기준이다. [[대한민국]]의 역세권에 비하면 눈물나는 수준), 이 역은 군의 중심 역이다. 화암역은 물론 [[만포선]]의 다른 노동자구 인근의 역보다도 역세권이 훨씬 크다.\n",
      "\n",
      "[[분류:북한의 철도역]]\n",
      "===== key =====\n",
      "namespace\n",
      "===== val =====\n",
      "0\n",
      "===== key =====\n",
      "contributors\n",
      "===== val =====\n",
      "[u'namubot', u'R:CBQ', u'R:Daydream', u'R:sd1566', u'Sunshine', u'218.48.46.25', u'58.29.48.106']\n",
      "===== key =====\n",
      "title\n",
      "===== val =====\n",
      "전천역\n"
     ]
    }
   ],
   "source": [
    "for key,val in x.items():\n",
    "    print('===== key =====')\n",
    "    print(key)\n",
    "    print('===== val =====')\n",
    "    print(val)"
   ]
  },
  {
   "cell_type": "code",
   "execution_count": 12,
   "metadata": {
    "ExecuteTime": {
     "end_time": "2017-10-12T13:20:03.666042Z",
     "start_time": "2017-10-12T13:20:03.660256Z"
    }
   },
   "outputs": [
    {
     "data": {
      "text/plain": [
       "unicode"
      ]
     },
     "execution_count": 12,
     "metadata": {},
     "output_type": "execute_result"
    }
   ],
   "source": [
    "type(x['title'])"
   ]
  },
  {
   "cell_type": "code",
   "execution_count": 13,
   "metadata": {
    "ExecuteTime": {
     "end_time": "2017-10-12T13:20:08.180782Z",
     "start_time": "2017-10-12T13:20:06.939042Z"
    }
   },
   "outputs": [
    {
     "name": "stdout",
     "output_type": "stream",
     "text": [
      "('black listed count', 1)\n",
      "('min text size:', 0)\n",
      "('max text size:', 426441)\n"
     ]
    }
   ],
   "source": [
    "# this black list article does not contain natural language knowledge\n",
    "black_list_title = [u'공지사항/차단 내역/통합본']\n",
    "\n",
    "black_listed_count = 0\n",
    "\n",
    "# Check some statistics of whole dataset\n",
    "count_dict = {}\n",
    "for article in data:\n",
    "    if article['title'] in black_list_title:\n",
    "        black_listed_count += 1\n",
    "        continue # remove blacklist article\n",
    "        \n",
    "#     if(len(article['text']) > 10000 and len(article['text']) < 11000):\n",
    "#         print(article)\n",
    "#         break\n",
    "        \n",
    "    if count_dict.get(len(article['text'])) == None:\n",
    "        count_dict[len(article['text'])] = 1\n",
    "    else:\n",
    "        count_dict[len(article['text'])] = count_dict[len(article['text'])] + 1        \n",
    "    \n",
    "\n",
    "print('black listed count',black_listed_count)\n",
    "print(\"min text size:\", min(count_dict.keys()))\n",
    "print(\"max text size:\", max(count_dict.keys()))\n"
   ]
  },
  {
   "cell_type": "code",
   "execution_count": 14,
   "metadata": {
    "ExecuteTime": {
     "end_time": "2017-10-12T13:21:05.222595Z",
     "start_time": "2017-10-12T13:21:05.210250Z"
    }
   },
   "outputs": [
    {
     "data": {
      "text/plain": [
       "426441"
      ]
     },
     "execution_count": 14,
     "metadata": {},
     "output_type": "execute_result"
    }
   ],
   "source": [
    "max(count_dict.keys())"
   ]
  },
  {
   "cell_type": "code",
   "execution_count": 15,
   "metadata": {
    "ExecuteTime": {
     "end_time": "2017-10-12T13:21:49.396204Z",
     "start_time": "2017-10-12T13:21:49.388883Z"
    }
   },
   "outputs": [
    {
     "data": {
      "text/plain": [
       "33328"
      ]
     },
     "execution_count": 15,
     "metadata": {},
     "output_type": "execute_result"
    }
   ],
   "source": [
    "len(count_dict.keys())"
   ]
  },
  {
   "cell_type": "code",
   "execution_count": 16,
   "metadata": {
    "ExecuteTime": {
     "end_time": "2017-10-12T13:22:11.347451Z",
     "start_time": "2017-10-12T13:22:11.321850Z"
    }
   },
   "outputs": [
    {
     "name": "stdout",
     "output_type": "stream",
     "text": [
      "('num_bucket:', 427)\n",
      "[655452, 75394, 47663, 31185, 21594, 15765, 12035, 9436, 7664, 6338, 5177, 4409, 3882, 3295, 2843, 2515, 2256, 1952, 1791, 1559, 1440, 1326, 1190, 1012, 944, 836, 771, 761, 727, 575, 589, 529, 495, 424, 382, 399, 379, 321, 309, 288, 297, 281, 269, 225, 200, 182, 182, 177, 179, 147, 120, 156, 140, 119, 122, 97, 92, 100, 92, 97, 83, 98, 77, 72, 76, 66, 56, 51, 48, 51, 53, 44, 38, 40, 35, 32, 43, 38, 34, 32, 30, 31, 24, 25, 31, 19, 19, 13, 21, 25, 10, 17, 11, 18, 18, 14, 18, 11, 22, 12, 19, 11, 13, 10, 13, 8, 15, 8, 10, 15, 6, 11, 6, 13, 10, 12, 7, 7, 6, 8, 10, 10, 1, 4, 7, 4, 3, 6, 6, 6, 3, 5, 9, 1, 3, 5, 4, 1, 4, 3, 3, 4, 4, 1, 1, 2, 1, 1, 0, 0, 1, 4, 3, 3, 2, 0, 0, 0, 2, 4, 1, 2, 1, 0, 0, 0, 0, 1, 1, 2, 2, 2, 1, 0, 2, 0, 0, 1, 1, 4, 1, 0, 0, 0, 1, 0, 1, 0, 1, 1, 1, 1, 0, 1, 0, 2, 1, 1, 0, 1, 0, 1, 2, 0, 0, 0, 1, 0, 1, 0, 0, 1, 0, 1, 0, 1, 0, 0, 0, 0, 1, 1, 1, 0, 0, 0, 0, 0, 0, 0, 1, 0, 1, 0, 0, 0, 0, 0, 0, 1, 0, 0, 1, 0, 0, 1, 0, 0, 0, 0, 0, 0, 0, 0, 0, 0, 0, 0, 0, 0, 0, 0, 0, 0, 0, 0, 0, 0, 0, 1, 0, 0, 0, 0, 0, 0, 0, 0, 0, 0, 0, 0, 0, 0, 0, 0, 0, 0, 0, 0, 0, 0, 0, 0, 0, 0, 0, 0, 0, 0, 0, 1, 0, 0, 0, 0, 0, 0, 0, 0, 0, 0, 0, 0, 0, 0, 0, 0, 1, 0, 0, 0, 0, 0, 0, 0, 0, 0, 0, 0, 0, 0, 0, 0, 0, 0, 0, 0, 0, 0, 0, 0, 0, 0, 0, 0, 0, 0, 0, 0, 0, 1, 0, 0, 0, 0, 0, 0, 0, 0, 0, 0, 0, 0, 0, 0, 0, 0, 0, 0, 0, 0, 0, 1, 0, 0, 0, 0, 0, 0, 0, 0, 0, 0, 0, 0, 0, 0, 0, 0, 0, 0, 0, 0, 0, 0, 0, 0, 0, 0, 0, 0, 0, 0, 0, 0, 0, 0, 0, 0, 0, 0, 0, 0, 0, 0, 0, 0, 1, 0, 0, 0, 0, 0, 0, 0, 1]\n"
     ]
    }
   ],
   "source": [
    "MAX_ARTICLE_SIZE = max(count_dict.keys())\n",
    "\n",
    "bucket_size = 1000\n",
    "num_bucket = MAX_ARTICLE_SIZE // bucket_size + 1\n",
    "\n",
    "print('num_bucket:', num_bucket)\n",
    "\n",
    "bucket_counts = [0] * num_bucket\n",
    "for key, value in count_dict.items():\n",
    "    index = key // bucket_size\n",
    "    bucket_counts[index] = bucket_counts[index] + value\n",
    "\n",
    "print(bucket_counts)\n",
    "\n"
   ]
  },
  {
   "cell_type": "markdown",
   "metadata": {},
   "source": [
    "# Test parsing"
   ]
  },
  {
   "cell_type": "code",
   "execution_count": 17,
   "metadata": {
    "ExecuteTime": {
     "end_time": "2017-10-12T13:23:27.962622Z",
     "start_time": "2017-10-12T13:23:27.954631Z"
    },
    "scrolled": false
   },
   "outputs": [
    {
     "name": "stdout",
     "output_type": "stream",
     "text": [
      "===== title =====\n",
      "!\n",
      "===== text =====\n",
      "#redirect 느낌표\n",
      "\n",
      "()\n",
      "===== title =====\n",
      "!!아앗!!\n",
      "===== text =====\n",
      "[[파일:3444050440.jpg]]\n",
      "([[신 세계수의 미궁 2]]에서 뜬 !!아앗!!)\n",
      "{{{+1 ！！ああっと！！ }}}\n",
      "\n",
      "[[세계수의 미궁 시리즈]]에 전통으로 등장하는 대사. [[세계수의 미궁 2 제왕의 성배|2편 제왕의 성배]]부터 등장했으며, 훌륭한 [[사망 플래그]]의 예시이다.\n",
      "\n",
      "세계수의 모험가들이 탐험하는 던전인 수해의 구석구석에는 채취/벌채/채굴 포인트가 있으며, 이를 위한 채집 스킬에 투자하면 제한된 채집 기회에 보다 큰 이득을 챙길 수 있다. 그러나 분배할 수 있는 스킬 포인트는 한정된 만큼 채집 스킬에 투자하는 만큼 전투 스킬 레벨은 낮아지게 된다.\n",
      "\n",
      " 1. 채집용 캐릭터들로 이루어진 약한 파티(ex: [[레인저(세계수의 미궁 2)|레인저]] 5명)가 수해에 입장한다.\n",
      " 1. 필드 전투를 회피하면서 채집 포인트에 도착해 열심히 아이템을 캐는 중에...\n",
      " 1. '''!!아앗!!''' ~~라플레시아가 나타났다!~~\n",
      " '''이때 등장하는 것은 [[FOE(세계수의 미궁 시리즈)|FOE]]는 아닌 일단 필드 졸개지만, 훨씬 위 층에 등장하는 강력한 졸개이며 선 턴을 빼앗긴다!'''\n",
      " 1. '''[[으앙 죽음|떡잎]]'''(hage)\n",
      "\n",
      "작품마다 !!아앗!!의 세세한 모습은 다르다. 그 악랄함은 첫 등장한 작품이자 시리즈 중에서도 불친절하기로 정평이 난 2편이 절정이었는데, 그야말로 위의 !!아앗!! 시퀀스 그대로, 묻지도 따지지도 않고 채집할 때마다 일정 확률로 '''강제로''' 전투에 돌입해야 했다. 게다가 이럴 때 쓰라고 있는 레인저의 스킬 '위험감지(중간 확률로 적의 선제공격을 무효화)'는 작동하지 않았다!\n",
      "[[세계수의 미궁 3 성해의 내방자|3편]], [[세계수의 미궁 4 전승의 거신|4편]]에는 숨통이 트이게도 채집 중 낮은 확률로 \"좋은 아이템을 얻을 수 있을 것 같지만... 주변에서 몬스터들의 기척이 느껴진다.\"는 메시지가 뜨고 이때 운이 좋으면 레어 아이템을 얻을 수 있지만 반대의 경우 적과 싸우게 되는 것으로 조정되었다. 단 4편은 움직이지 않고 채집할 때도 턴이 경과하도록 조정되었기 때문에 주변에 있는 FOE를 잊고 채집에 몰두하다가 FOE와 부딪히면 FOE 버전 !!아앗!!이 뜬다. 그리고 난이도 CASUAL로 플레이시 FOE로 인한 !!아앗!!을 제외하면 절대로 발생하지 않는다.\n",
      "[[신 세계수의 미궁 밀레니엄의 소녀|신 세계수의]] [[신 세계수의 미궁 2 파프니르기사|미궁 시리즈]], 그 이후에 나온 최신작 [[세계수의 미궁 5 오랜 신화의 끝|5편]]에서는 채집 방식이 한 턴으로 끝나는 구조[* 채집으로 한번 아이템을 획득하면 \"다시, (채집스킬)에 의해...\"가 뜨면서 한꺼번에 획득되는 구조.]로 바뀐 덕분인지 강제 조우로 다시 회귀해버렸다(...). 그나마 위험감지 먹통과 같은 버그성 난점들은 수정되었다.\n",
      "\n",
      "세계수 시스템을 기반으로 한 [[페르소나 시리즈]]와의 콜라보 작품 [[페르소나 Q 섀도우 오브 더 래버린스]]에도 물론 등장. 3, 4편과 같이 파워 스팟에서 채집 도중 메시지가 뜨고, 실패하면 파티에 참가하고 있는 멤버중 한명의 [[http://nico.ms/sm25683358|아앗! 하는 음성]]~~또는 [[고로마루|개소리]]~~과 함께 그 던전의 '강적'인 거대 섀도우가 나타난다. 그러나 내비 전용 스킬인 뱀 눈 노려보기(위험감지와 같은 효과), 채집 보조 스킬은 파티의 전투력에 전혀 지장을 주지 않고, '대안심'을 달면 거의 볼 일이 없어져서 초중반 이후 존재감이 급격히 줄어든다.\n",
      "\n",
      "여담으로, 2편에서 채집 도중 !!아앗!!이 뜰 확률은 [[http://www.atlusnet.jp/topic/detail/910|고작 1%였다고 한다.]] 낮아보이는 확률이어도 플레이 중 한번이라도 일어나는 것을 경험하는 체감 확률을 고려해서 확률을 설정한다고.\n",
      "\n",
      "그 기원은 1인칭 던전 크롤러의 원조 [[위저드리]]에서 함정을 건드렸을 때 나오는 대사 Oops!(おおっと！)라고 한다.\n",
      "\n",
      "[[분류:세계수의 미궁 시리즈]]\n",
      "()\n",
      "===== title =====\n",
      "“……”\n",
      "===== text =====\n",
      "[include(틀:다른 뜻1, other1=말줄임표 등으로 사용하는 용어, rd1=(...))]\n",
      "\n",
      " * 상위 문서: [[개그 콘서트/종영 코너]]\n",
      "\n",
      "||<table align=right>|| http://www.mftp.info/20150901/1443910706x-576894271.jpg?width=320 ||\n",
      "|||| “……” ||\n",
      "|| 참여 프로그램 || [[개그 콘서트]] ||\n",
      "|| 시작 || [[2013년]] [[5월 26일]] ||\n",
      "|| 종료 || 2013년 [[10월 13일]] ||\n",
      "|| 출연진 || [[유민상#s-1|유민상]], [[김희원]], [[송필근]], 남궁경호 ||\n",
      "|| 유행어 || XX는 더 이상합니다[* 어색한 상황을 수습해보려는 변명이 더 안 좋은 결과를 낼 때 나오는 말.] ||\n",
      "\n",
      "--[[나는 킬러다|2년 뒤에는 사위가 장인을 죽이려한다]]--\n",
      "\n",
      "'''진짜로 코너 [[이름]]이 ([[말풍선]])“……”[* 큰 따옴표도 포함된다.](말풍선)이다'''. 언론에서는 이 코너를 언급할 때 '점점점' 또는 '점점점점점점'이라는 표현을 사용한다. 코너명의 유래는 흔히 쓰이는 [[...|말줄임표]]. 2013년 5월 26일부터 방송되었고 [[김희원]], 남궁경호, [[유민상#s-1|유민상]], [[송필근]]이 출연한다.\n",
      "\n",
      "남자친구(남궁경호)와 여자친구(김희원)의 아버지(유민상) 간의 어색함을 다룬 코미디. 코너 초창기에는 남자친구 역인 남궁경호의 비중이 높았고 송필근은 배달부나 이웃주민 등 조연 역할이었으나, 송필근이 남궁경호의 아버지 역할(즉 유민상과 사돈관계) 컨셉으로 고정되면서 남궁경호의 비중이 줄어들고[* 심지어 아예 등장하지 않는 회차도 간간히 있다.] 사실상 유민상과 송필근의 투톱 체제로 나가고 있다. 따라서 그 이후로는 주로 사돈 간의 어색함을 다루고 있다. 3인(혹은 4인)이 있다가 여자친구(혹은 경호-희원 커플)가 자리를 비우면 남은 두 사람은 어색해 하면서 아무 말 없이 중간중간 몇 마디 말만 던지고 다시 조용한 분위기가 되는 것이 주된 패턴이다. 자리마다 항상 큰 괘종시계가 있어서 아무 말 없을 때마다 째깍째깍 소리가 나는 것이 웃음 포인트. 유민상이 사돈어른(송필근)이 찾아오기 전에 집안에 있는 괘종시계를 미리 치워버린 에피소드도 있었는데, 사돈어른이 선물로 벽시계를 사오면서 어색한 상황에서 째깍째깍 소리가 나게 되었다.\n",
      "\n",
      "중간에 제 3자(송필근)가 끼어드는데, 남자친구가 자리를 비우면 제 3자와 아버지 간에도 사이가 어색해진다[* 6화(2013년 6월 30일 방송분)부터 송필근은 주로 유민상의 사돈어른 役을 맡고 있다. 그 외에도 간혹 김희원의 오빠 역할 등 다른 역할을 하기도 한다.]. 단순히 대화가 없는 상황을 보여주기도 하고, 어떤 사람은 대화가 별로 없는 현대 사회를 보여주기도 한다고 해석하기도 한다.\n",
      "\n",
      "김희원은 유일하게 어색해하지 않게 붙임성있게 말 잘 하지만, 대신 [[눈새|눈치가 없다]]. 그리고 그녀의 눈치없는 말로 주변은 더 어색해진다.\n",
      "\n",
      "7화(2013년 7월 14일 방송분)에서는 사돈어른이 [[2PM]] 춤 추다가 입원해서 놀림당했는데 건너편에 [[미라]]처럼 깁스를 하고 있던 유인석이 한 손을 뻗어 심장박동을 시전했다. ~~캔 유 필 마 핫빗?~~ 그리고 아빠와 딸이 모두 [[박카스|박{{{#FFFFFF 카}}}스]]를 한 '''[[박스]]'''씩 사왔는데, 병실 장롱에 '''[[박카스|박{{{#FFFFFF 카}}}스]]가 한가득''' 들어있었다. 유민상이 병문안 때는 [[박카스|박{{{#FFFFFF 카}}}스]]를 사가는 것이 좋다고 생각했는데, 알고보니 전에 병문안 왔던 사람들도 같은 생각을 했었던 것.\n",
      "\n",
      "9화(2013년 7월 28일 방송분)에서는 송필근이 김희원의 오빠 역할로 나온다. 경호-희원 커플이 유민상 몰래 괌에 갔다온 것이 들통나면서 남궁경호가 [[괌]]을 \"'''[[대전광역시|대전]] [[구암역(대전)|구]][[유성구#s-4.1.2|암]]'''(Guam)\"이라고 말하니까 유민상의 드립이 압권이다. \"난 '''[[몽둥이]] 괌~'''\"\n",
      "\n",
      "회가 거듭하면 거듭할수록 커플의 진도가 쭉쭉 잘 나가서 김희원과 [[김나희]]가 '''[[배꼽티]]'''도 자랑했고, 11화(2013년 8월 25일 방송분)에서는 김희원이 웨딩드레스를 맞추었다.\n",
      "\n",
      "14화(2013년 9월 15일 방송분)에서는 송필근이 사돈 유민상의 아버지 희수연을 기념하고자 화환을 보냈는데, 문제는 유민상 아버지의 본명이 유[[죽빵|죽방]]이라 본인이 그 이름을 매우 싫어했다는 점. (그래서 현수막은 \"유 할아버지\" 라고 걸려있었다.) ~~이 정도면 [[개명]]을...~~ 하지만 송필근은 그 사실을 몰랐기 때문에 예식장에 이름이 크게 적힌 화환이 배달되었다. 송필근이 뒤늦게 상황을 수습해보고자 '''[[유방(신체)|가운데 글자를 가려보지만]]'''...\n",
      "\n",
      "15화(2013년 9월 22일 방송분)에서는 [[정태호]]가 [[나훈아|너훈아]] 역할로 출연하였다.\n",
      "\n",
      "마지막화인 17화(2013년 10월 13일 방송분)에서는 [[박은영(코미디언)|박은영]]이 유민상과 송필근이 [[건강검진]]을 받으러 간 [[병원]]의 [[간호사]] 역할로 나왔다.[* 이날 방송분에는 직접적으로 마지막회라고 언급하면서 방청객들이 아쉬워하자 유민상이 모든 사람들에게 다 까라고 그런다.]\n",
      "\n",
      "[[여담]]으로, 극중에서 부자관계로 나오는 27기 남궁경호와 송필근은 동갑이자 성남예고, [[인덕대학]] 동기로 둘 다 91년생이다.\n",
      "\n",
      "[[분류:개그 콘서트 코너]]\n",
      "()\n"
     ]
    }
   ],
   "source": [
    "# Article contains title, text, and other things\n",
    "# Let's extract title and text from several articles\n",
    "for i in range(3):\n",
    "    print('===== title =====')\n",
    "    print(data[i]['title'])\n",
    "    print('===== text =====')\n",
    "    print(data[i]['text'])\n",
    "    print()"
   ]
  },
  {
   "cell_type": "markdown",
   "metadata": {},
   "source": [
    "## Preprocessing with RegEx"
   ]
  },
  {
   "cell_type": "code",
   "execution_count": 18,
   "metadata": {
    "ExecuteTime": {
     "end_time": "2017-10-12T13:23:46.643442Z",
     "start_time": "2017-10-12T13:23:46.636293Z"
    },
    "scrolled": true
   },
   "outputs": [
    {
     "name": "stdout",
     "output_type": "stream",
     "text": [
      "딴 사람도 아니고 프로팀 [[Counter Logic Gaming|CLG]] 소속 전 서포터 [[스티브 차우|차우스터]]가 남긴 말이다.\n",
      "딴 사람도 아니고 프로팀 CLG 소속 전 서포터 차우스터가 남긴 말이다.\n"
     ]
    }
   ],
   "source": [
    "# Using regular expression, we can strip some grammar. Let's see how we can do it. \n",
    "import re\n",
    "text = u\"딴 사람도 아니고 프로팀 [[Counter Logic Gaming|CLG]] 소속 전 서포터 [[스티브 차우|차우스터]]가 남긴 말이다.\"\n",
    "t1 = re.sub(r\"\\[\\[([^\\]|]*)\\]\\]\", r'\\1', text) # remove link\n",
    "print(t1)\n",
    "t2 = re.sub(r\"\\[\\[(?:[^\\]|]*\\|)?([^\\]|]+)\\]\\]\", r'\\1', text) # remove link\n",
    "print(t2)"
   ]
  },
  {
   "cell_type": "code",
   "execution_count": 19,
   "metadata": {
    "ExecuteTime": {
     "end_time": "2017-10-12T14:37:31.653175Z",
     "start_time": "2017-10-12T14:37:31.630630Z"
    },
    "collapsed": true
   },
   "outputs": [],
   "source": [
    "# We want only plain texts, so strip wiki grammer.\n",
    "# Refer this link to know more about grammar. https://namu.wiki/w/%EB%82%98%EB%AC%B4%EC%9C%84%ED%82%A4:%EB%AC%B8%EB%B2%95%20%EB%8F%84%EC%9B%80%EB%A7%90\n",
    "\n",
    "# Use regular expression to capture some pattern\n",
    "\n",
    "# see http://stackoverflow.com/questions/2718196/find-all-chinese-text-in-a-string-using-python-and-regex\n",
    "chinese = re.compile(u'[⺀-⺙⺛-⻳⼀-⿕々〇〡-〩〸-〺〻㐀-䶵一-鿃豈-鶴侮-頻並-龎]', re.UNICODE)\n",
    "japanese = re.compile(u'[\\u3000-\\u303f\\u3040-\\u309f\\u30a0-\\u30ff\\uff00-\\uff9f\\u4e00-\\u9faf\\u3400-\\u4dbf]', re.UNICODE)\n",
    "\n",
    "# hangul = re.compile('[^ ㄱ-ㅣ가-힣]+') # 한글과 띄어쓰기를 제외한 모든 글자\n",
    "# hangul = re.compile('[^ \\u3131-\\u3163\\uac00-\\ud7a3]+')  # 위와 동일\n",
    "# result = hangul.sub('', s) # 한글과 띄어쓰기를 제외한 모든 부분을 제거\n",
    "\n",
    "\n",
    "def strip(text):               \n",
    "    text = re.sub(r\"\\{\\{\\{#\\!html[^\\}]*\\}\\}\\}\", '', text, flags=re.IGNORECASE|re.MULTILINE|re.DOTALL) # remove html\n",
    "    text = re.sub(r\"#redirect .*\", '', text, flags=re.IGNORECASE) # remove redirect\n",
    "    text = re.sub(r\"\\[youtube\\(\\w+\\)\\]\", '', text, flags=re.IGNORECASE) # remove youtube\n",
    "    text = re.sub(r\"\\[include\\(.*\", '', text, flags=re.IGNORECASE)\n",
    "    text = re.sub(r\"\\[\\[ ?:?분류:.*\", '', text) # remove 분류\n",
    "    text = re.sub(r\"\\[\\[ ?:?파일:.*\", '', text) # remove 파일\n",
    "    text = re.sub(r\"\\[\\[[^\\]|]*\\|([^\\]|]+)\\]\\]\", r'\\1', text) # remove link\n",
    "    text = re.sub(r\"\\[\\[([^\\]|]*)(#[^\\]|]+)?\\]\\]\", r'\\1', text) # remove link\n",
    "    text = re.sub(r\"\\[\\*([^\\]]*)\\]\", '', text) # remove 각주\n",
    "    text = re.sub(r\"\\{\\{\\{([^\\ }|]*) ([^\\}|]*)\\}\\}\\}\", r'\\2', text) # remove text color/size\n",
    "    text = re.sub(r\"\\* 상위 문서:.*\", '', text) # remove 상위문서\n",
    "    text = re.sub(r\"'''([^']*)'''\", r'\\1', text) # remove text bold\n",
    "    text = re.sub(r\"==([^=]*)==\", '', text) # == sdfsd ==\n",
    "    text = re.sub(r\"~~([^~]*)~~\", '', text) # remove strike-through\n",
    "    text = re.sub(r\"--([^-]*)--\", '', text) # remove strike-through\n",
    "\n",
    "    text = re.sub(r\"\\|\\|(.*)\\|\\|\", '', text) # remove table\n",
    "\n",
    "    # XXX workaround\n",
    "    #text = re.sub(r\".*문서:.*\", '', text)\n",
    "    #text = re.sub(r\".*분류:.*\", '', text)\n",
    "\n",
    "\n",
    "    text = chinese.sub('', text) # remove chinese\n",
    "    text = japanese.sub('', text) # remove japanese\n",
    "\n",
    "    return text"
   ]
  },
  {
   "cell_type": "code",
   "execution_count": 20,
   "metadata": {
    "ExecuteTime": {
     "end_time": "2017-10-12T14:37:32.285983Z",
     "start_time": "2017-10-12T14:37:32.280540Z"
    }
   },
   "outputs": [
    {
     "name": "stdout",
     "output_type": "stream",
     "text": [
      "\n",
      "\n",
      "\n",
      "\n"
     ]
    }
   ],
   "source": [
    "text = \"\"\"\n",
    "* 상위 문서: [[개그 콘서트/종영 코너]]\n",
    "[[분류:개그 콘서트 코너]]\n",
    "\"\"\"\n",
    "print(strip(text))"
   ]
  },
  {
   "cell_type": "code",
   "execution_count": 21,
   "metadata": {
    "ExecuteTime": {
     "end_time": "2017-10-12T14:37:32.838719Z",
     "start_time": "2017-10-12T14:37:32.832525Z"
    },
    "scrolled": false
   },
   "outputs": [
    {
     "name": "stdout",
     "output_type": "stream",
     "text": [
      "0 [include(틀:다른 뜻1, other1=말줄임표 등으로 사용하는 용어, rd1=(...))]\n",
      "1 \n",
      "2  * 상위 문서: [[개그 콘서트/종영 코너]]\n",
      "3 \n",
      "4 ||<table align=right>|| http://www.mftp.info/20150901/1443910706x-576894271.jpg?width=320 ||\n",
      "5 |||| “……” ||\n",
      "6 || 참여 프로그램 || [[개그 콘서트]] ||\n",
      "7 || 시작 || [[2013년]] [[5월 26일]] ||\n",
      "8 || 종료 || 2013년 [[10월 13일]] ||\n",
      "9 || 출연진 || [[유민상#s-1|유민상]], [[김희원]], [[송필근]], 남궁경호 ||\n",
      "10 || 유행어 || XX는 더 이상합니다[* 어색한 상황을 수습해보려는 변명이 더 안 좋은 결과를 낼 때 나오는 말.] ||\n",
      "11 \n",
      "12 --[[나는 킬러다|2년 뒤에는 사위가 장인을 죽이려한다]]--\n",
      "13 \n",
      "14 '''진짜로 코너 [[이름]]이 ([[말풍선]])“……”[* 큰 따옴표도 포함된다.](말풍선)이다'''. 언론에서는 이 코너를 언급할 때 '점점점' 또는 '점점점점점점'이라는 표현을 사용한다. 코너명의 유래는 흔히 쓰이는 [[...|말줄임표]]. 2013년 5월 26일부터 방송되었고 [[김희원]], 남궁경호, [[유민상#s-1|유민상]], [[송필근]]이 출연한다.\n",
      "15 \n",
      "16 남자친구(남궁경호)와 여자친구(김희원)의 아버지(유민상) 간의 어색함을 다룬 코미디. 코너 초창기에는 남자친구 역인 남궁경호의 비중이 높았고 송필근은 배달부나 이웃주민 등 조연 역할이었으나, 송필근이 남궁경호의 아버지 역할(즉 유민상과 사돈관계) 컨셉으로 고정되면서 남궁경호의 비중이 줄어들고[* 심지어 아예 등장하지 않는 회차도 간간히 있다.] 사실상 유민상과 송필근의 투톱 체제로 나가고 있다. 따라서 그 이후로는 주로 사돈 간의 어색함을 다루고 있다. 3인(혹은 4인)이 있다가 여자친구(혹은 경호-희원 커플)가 자리를 비우면 남은 두 사람은 어색해 하면서 아무 말 없이 중간중간 몇 마디 말만 던지고 다시 조용한 분위기가 되는 것이 주된 패턴이다. 자리마다 항상 큰 괘종시계가 있어서 아무 말 없을 때마다 째깍째깍 소리가 나는 것이 웃음 포인트. 유민상이 사돈어른(송필근)이 찾아오기 전에 집안에 있는 괘종시계를 미리 치워버린 에피소드도 있었는데, 사돈어른이 선물로 벽시계를 사오면서 어색한 상황에서 째깍째깍 소리가 나게 되었다.\n",
      "17 \n",
      "18 중간에 제 3자(송필근)가 끼어드는데, 남자친구가 자리를 비우면 제 3자와 아버지 간에도 사이가 어색해진다[* 6화(2013년 6월 30일 방송분)부터 송필근은 주로 유민상의 사돈어른 役을 맡고 있다. 그 외에도 간혹 김희원의 오빠 역할 등 다른 역할을 하기도 한다.]. 단순히 대화가 없는 상황을 보여주기도 하고, 어떤 사람은 대화가 별로 없는 현대 사회를 보여주기도 한다고 해석하기도 한다.\n",
      "19 \n",
      "20 김희원은 유일하게 어색해하지 않게 붙임성있게 말 잘 하지만, 대신 [[눈새|눈치가 없다]]. 그리고 그녀의 눈치없는 말로 주변은 더 어색해진다.\n",
      "21 \n",
      "22 7화(2013년 7월 14일 방송분)에서는 사돈어른이 [[2PM]] 춤 추다가 입원해서 놀림당했는데 건너편에 [[미라]]처럼 깁스를 하고 있던 유인석이 한 손을 뻗어 심장박동을 시전했다. ~~캔 유 필 마 핫빗?~~ 그리고 아빠와 딸이 모두 [[박카스|박{{{#FFFFFF 카}}}스]]를 한 '''[[박스]]'''씩 사왔는데, 병실 장롱에 '''[[박카스|박{{{#FFFFFF 카}}}스]]가 한가득''' 들어있었다. 유민상이 병문안 때는 [[박카스|박{{{#FFFFFF 카}}}스]]를 사가는 것이 좋다고 생각했는데, 알고보니 전에 병문안 왔던 사람들도 같은 생각을 했었던 것.\n",
      "23 \n",
      "24 9화(2013년 7월 28일 방송분)에서는 송필근이 김희원의 오빠 역할로 나온다. 경호-희원 커플이 유민상 몰래 괌에 갔다온 것이 들통나면서 남궁경호가 [[괌]]을 \"'''[[대전광역시|대전]] [[구암역(대전)|구]][[유성구#s-4.1.2|암]]'''(Guam)\"이라고 말하니까 유민상의 드립이 압권이다. \"난 '''[[몽둥이]] 괌~'''\"\n",
      "25 \n",
      "26 회가 거듭하면 거듭할수록 커플의 진도가 쭉쭉 잘 나가서 김희원과 [[김나희]]가 '''[[배꼽티]]'''도 자랑했고, 11화(2013년 8월 25일 방송분)에서는 김희원이 웨딩드레스를 맞추었다.\n",
      "27 \n",
      "28 14화(2013년 9월 15일 방송분)에서는 송필근이 사돈 유민상의 아버지 희수연을 기념하고자 화환을 보냈는데, 문제는 유민상 아버지의 본명이 유[[죽빵|죽방]]이라 본인이 그 이름을 매우 싫어했다는 점. (그래서 현수막은 \"유 할아버지\" 라고 걸려있었다.) ~~이 정도면 [[개명]]을...~~ 하지만 송필근은 그 사실을 몰랐기 때문에 예식장에 이름이 크게 적힌 화환이 배달되었다. 송필근이 뒤늦게 상황을 수습해보고자 '''[[유방(신체)|가운데 글자를 가려보지만]]'''...\n",
      "29 \n",
      "30 15화(2013년 9월 22일 방송분)에서는 [[정태호]]가 [[나훈아|너훈아]] 역할로 출연하였다.\n",
      "31 \n",
      "32 마지막화인 17화(2013년 10월 13일 방송분)에서는 [[박은영(코미디언)|박은영]]이 유민상과 송필근이 [[건강검진]]을 받으러 간 [[병원]]의 [[간호사]] 역할로 나왔다.[* 이날 방송분에는 직접적으로 마지막회라고 언급하면서 방청객들이 아쉬워하자 유민상이 모든 사람들에게 다 까라고 그런다.]\n",
      "33 \n",
      "34 [[여담]]으로, 극중에서 부자관계로 나오는 27기 남궁경호와 송필근은 동갑이자 성남예고, [[인덕대학]] 동기로 둘 다 91년생이다.\n",
      "35 \n",
      "36 [[분류:개그 콘서트 코너]]\n"
     ]
    }
   ],
   "source": [
    "for n,s in enumerate(data[2]['text'].encode('utf-8').split('\\n')):\n",
    "    print n,s"
   ]
  },
  {
   "cell_type": "code",
   "execution_count": 22,
   "metadata": {
    "ExecuteTime": {
     "end_time": "2017-10-12T14:37:33.481699Z",
     "start_time": "2017-10-12T14:37:33.479163Z"
    }
   },
   "outputs": [
    {
     "name": "stdout",
     "output_type": "stream",
     "text": [
      "[include(틀:다른 뜻1, other1=말줄임표 등으로 사용하는 용어, rd1=(...))]\n",
      "\n",
      " * 상위 문서: [[개그 콘서트/종영 코너]]\n",
      "\n",
      "||<table align=right>|| http://www.mftp.info/20150901/1443910706x-576894271.jpg?width=320 ||\n",
      "|||| “……” ||\n",
      "|| 참여 프로그램 || [[개그 콘서트]] ||\n",
      "|| 시작 || [[2013년]] [[5월 26일]] ||\n",
      "|| 종료 || 2013년 [[10월 13일]] ||\n",
      "|| 출연진 || [[유민상#s-1|유민상]], [[김희원]], [[송필근]], 남궁경호 ||\n",
      "|| 유행어 || XX는 더 이상합니다[* 어색한 상황을 수습해보려는 변명이 더 안 좋은 결과를 낼 때 나오는 말.] ||\n",
      "\n",
      "--[[나는 킬러다|2년 뒤에는 사위가 장인을 죽이려한다]]--\n",
      "\n",
      "'''진짜로 코너 [[이름]]이 ([[말풍선]])“……”[* 큰 따옴표도 포함된다.](말풍선)이다'''. 언론에서는 이 코너를 언급할 때 '점점점' 또는 '점점점점점점'이라는 표현을 사용한다. 코너명의 유래는 흔히 쓰이는 [[...|말줄임표]]. 2013년 5월 26일부터 방송되었고 [[김희원]], 남궁경호, [[유민상#s-1|유민상]], [[송필근]]이 출연한다.\n",
      "\n",
      "남자친구(남궁경호)와 여자친구(김희원)의 아버지(유민상) 간의 어색함을 다룬 코미디. 코너 초창기에는 남자친구 역인 남궁경호의 비중이 높았고 송필근은 배달부나 이웃주민 등 조연 역할이었으나, 송필근이 남궁경호의 아버지 역할(즉 유민상과 사돈관계) 컨셉으로 고정되면서 남궁경호의 비중이 줄어들고[* 심지어 아예 등장하지 않는 회차도 간간히 있다.] 사실상 유민상과 송필근의 투톱 체제로 나가고 있다. 따라서 그 이후로는 주로 사돈 간의 어색함을 다루고 있다. 3인(혹은 4인)이 있다가 여자친구(혹은 경호-희원 커플)가 자리를 비우면 남은 두 사람은 어색해 하면서 아무 말 없이 중간중간 몇 마디 말만 던지고 다시 조용한 분위기가 되는 것이 주된 패턴이다. 자리마다 항상 큰 괘종시계가 있어서 아무 말 없을 때마다 째깍째깍 소리가 나는 것이 웃음 포인트. 유민상이 사돈어른(송필근)이 찾아오기 전에 집안에 있는 괘종시계를 미리 치워버린 에피소드도 있었는데, 사돈어른이 선물로 벽시계를 사오면서 어색한 상황에서 째깍째깍 소리가 나게 되었다.\n",
      "\n",
      "중간에 제 3자(송필근)가 끼어드는데, 남자친구가 자리를 비우면 제 3자와 아버지 간에도 사이가 어색해진다[* 6화(2013년 6월 30일 방송분)부터 송필근은 주로 유민상의 사돈어른 役을 맡고 있다. 그 외에도 간혹 김희원의 오빠 역할 등 다른 역할을 하기도 한다.]. 단순히 대화가 없는 상황을 보여주기도 하고, 어떤 사람은 대화가 별로 없는 현대 사회를 보여주기도 한다고 해석하기도 한다.\n",
      "\n",
      "김희원은 유일하게 어색해하지 않게 붙임성있게 말 잘 하지만, 대신 [[눈새|눈치가 없다]]. 그리고 그녀의 눈치없는 말로 주변은 더 어색해진다.\n",
      "\n",
      "7화(2013년 7월 14일 방송분)에서는 사돈어른이 [[2PM]] 춤 추다가 입원해서 놀림당했는데 건너편에 [[미라]]처럼 깁스를 하고 있던 유인석이 한 손을 뻗어 심장박동을 시전했다. ~~캔 유 필 마 핫빗?~~ 그리고 아빠와 딸이 모두 [[박카스|박{{{#FFFFFF 카}}}스]]를 한 '''[[박스]]'''씩 사왔는데, 병실 장롱에 '''[[박카스|박{{{#FFFFFF 카}}}스]]가 한가득''' 들어있었다. 유민상이 병문안 때는 [[박카스|박{{{#FFFFFF 카}}}스]]를 사가는 것이 좋다고 생각했는데, 알고보니 전에 병문안 왔던 사람들도 같은 생각을 했었던 것.\n",
      "\n",
      "9화(2013년 7월 28일 방송분)에서는 송필근이 김희원의 오빠 역할로 나온다. 경호-희원 커플이 유민상 몰래 괌에 갔다온 것이 들통나면서 남궁경호가 [[괌]]을 \"'''[[대전광역시|대전]] [[구암역(대전)|구]][[유성구#s-4.1.2|암]]'''(Guam)\"이라고 말하니까 유민상의 드립이 압권이다. \"난 '''[[몽둥이]] 괌~'''\"\n",
      "\n",
      "회가 거듭하면 거듭할수록 커플의 진도가 쭉쭉 잘 나가서 김희원과 [[김나희]]가 '''[[배꼽티]]'''도 자랑했고, 11화(2013년 8월 25일 방송분)에서는 김희원이 웨딩드레스를 맞추었다.\n",
      "\n",
      "14화(2013년 9월 15일 방송분)에서는 송필근이 사돈 유민상의 아버지 희수연을 기념하고자 화환을 보냈는데, 문제는 유민상 아버지의 본명이 유[[죽빵|죽방]]이라 본인이 그 이름을 매우 싫어했다는 점. (그래서 현수막은 \"유 할아버지\" 라고 걸려있었다.) ~~이 정도면 [[개명]]을...~~ 하지만 송필근은 그 사실을 몰랐기 때문에 예식장에 이름이 크게 적힌 화환이 배달되었다. 송필근이 뒤늦게 상황을 수습해보고자 '''[[유방(신체)|가운데 글자를 가려보지만]]'''...\n",
      "\n",
      "15화(2013년 9월 22일 방송분)에서는 [[정태호]]가 [[나훈아|너훈아]] 역할로 출연하였다.\n",
      "\n",
      "마지막화인 17화(2013년 10월 13일 방송분)에서는 [[박은영(코미디언)|박은영]]이 유민상과 송필근이 [[건강검진]]을 받으러 간 [[병원]]의 [[간호사]] 역할로 나왔다.[* 이날 방송분에는 직접적으로 마지막회라고 언급하면서 방청객들이 아쉬워하자 유민상이 모든 사람들에게 다 까라고 그런다.]\n",
      "\n",
      "[[여담]]으로, 극중에서 부자관계로 나오는 27기 남궁경호와 송필근은 동갑이자 성남예고, [[인덕대학]] 동기로 둘 다 91년생이다.\n",
      "\n",
      "[[분류:개그 콘서트 코너]]\n"
     ]
    }
   ],
   "source": [
    "print(data[2]['text'])"
   ]
  },
  {
   "cell_type": "code",
   "execution_count": 23,
   "metadata": {
    "ExecuteTime": {
     "end_time": "2017-10-12T14:37:34.178710Z",
     "start_time": "2017-10-12T14:37:34.173873Z"
    },
    "scrolled": false
   },
   "outputs": [
    {
     "name": "stdout",
     "output_type": "stream",
     "text": [
      "\n",
      "\n",
      " * 상위 문서: 개그 콘서트/종영 코너\n",
      "\n",
      "\n",
      "\n",
      "\n",
      "\n",
      "\n",
      "\n",
      "\n",
      "\n",
      "\n",
      "\n",
      "진짜로 코너 이름이 (말풍선)“……”(말풍선)이다. 언론에서는 이 코너를 언급할 때 '점점점' 또는 '점점점점점점'이라는 표현을 사용한다. 코너명의 유래는 흔히 쓰이는 말줄임표. 2013년 5월 26일부터 방송되었고 김희원, 남궁경호, 유민상, 송필근이 출연한다.\n",
      "\n",
      "남자친구(남궁경호)와 여자친구(김희원)의 아버지(유민상) 간의 어색함을 다룬 코미디. 코너 초창기에는 남자친구 역인 남궁경호의 비중이 높았고 송필근은 배달부나 이웃주민 등 조연 역할이었으나, 송필근이 남궁경호의 아버지 역할(즉 유민상과 사돈관계) 컨셉으로 고정되면서 남궁경호의 비중이 줄어들고 사실상 유민상과 송필근의 투톱 체제로 나가고 있다. 따라서 그 이후로는 주로 사돈 간의 어색함을 다루고 있다. 3인(혹은 4인)이 있다가 여자친구(혹은 경호-희원 커플)가 자리를 비우면 남은 두 사람은 어색해 하면서 아무 말 없이 중간중간 몇 마디 말만 던지고 다시 조용한 분위기가 되는 것이 주된 패턴이다. 자리마다 항상 큰 괘종시계가 있어서 아무 말 없을 때마다 째깍째깍 소리가 나는 것이 웃음 포인트. 유민상이 사돈어른(송필근)이 찾아오기 전에 집안에 있는 괘종시계를 미리 치워버린 에피소드도 있었는데, 사돈어른이 선물로 벽시계를 사오면서 어색한 상황에서 째깍째깍 소리가 나게 되었다.\n",
      "\n",
      "중간에 제 3자(송필근)가 끼어드는데, 남자친구가 자리를 비우면 제 3자와 아버지 간에도 사이가 어색해진다. 단순히 대화가 없는 상황을 보여주기도 하고, 어떤 사람은 대화가 별로 없는 현대 사회를 보여주기도 한다고 해석하기도 한다.\n",
      "\n",
      "김희원은 유일하게 어색해하지 않게 붙임성있게 말 잘 하지만, 대신 눈치가 없다. 그리고 그녀의 눈치없는 말로 주변은 더 어색해진다.\n",
      "\n",
      "7화(2013년 7월 14일 방송분)에서는 사돈어른이 2PM 춤 추다가 입원해서 놀림당했는데 건너편에 미라처럼 깁스를 하고 있던 유인석이 한 손을 뻗어 심장박동을 시전했다.  그리고 아빠와 딸이 모두 박카스를 한 박스씩 사왔는데, 병실 장롱에 박카스가 한가득 들어있었다. 유민상이 병문안 때는 박카스를 사가는 것이 좋다고 생각했는데, 알고보니 전에 병문안 왔던 사람들도 같은 생각을 했었던 것.\n",
      "\n",
      "9화(2013년 7월 28일 방송분)에서는 송필근이 김희원의 오빠 역할로 나온다. 경호-희원 커플이 유민상 몰래 괌에 갔다온 것이 들통나면서 남궁경호가 괌을 \"대전 구암(Guam)\"이라고 말하니까 유민상의 드립이 압권이다. \"난 몽둥이 괌~\"\n",
      "\n",
      "회가 거듭하면 거듭할수록 커플의 진도가 쭉쭉 잘 나가서 김희원과 김나희가 배꼽티도 자랑했고, 11화(2013년 8월 25일 방송분)에서는 김희원이 웨딩드레스를 맞추었다.\n",
      "\n",
      "14화(2013년 9월 15일 방송분)에서는 송필근이 사돈 유민상의 아버지 희수연을 기념하고자 화환을 보냈는데, 문제는 유민상 아버지의 본명이 유죽방이라 본인이 그 이름을 매우 싫어했다는 점. (그래서 현수막은 \"유 할아버지\" 라고 걸려있었다.)  하지만 송필근은 그 사실을 몰랐기 때문에 예식장에 이름이 크게 적힌 화환이 배달되었다. 송필근이 뒤늦게 상황을 수습해보고자 가운데 글자를 가려보지만...\n",
      "\n",
      "15화(2013년 9월 22일 방송분)에서는 정태호가 너훈아 역할로 출연하였다.\n",
      "\n",
      "마지막화인 17화(2013년 10월 13일 방송분)에서는 박은영이 유민상과 송필근이 건강검진을 받으러 간 병원의 간호사 역할로 나왔다.\n",
      "\n",
      "여담으로, 극중에서 부자관계로 나오는 27기 남궁경호와 송필근은 동갑이자 성남예고, 인덕대학 동기로 둘 다 91년생이다.\n",
      "\n",
      "분류:개그 콘서트 코너\n"
     ]
    }
   ],
   "source": [
    "print(strip(data[2]['text']))"
   ]
  },
  {
   "cell_type": "code",
   "execution_count": 24,
   "metadata": {
    "ExecuteTime": {
     "end_time": "2017-10-12T13:24:15.315033Z",
     "start_time": "2017-10-12T13:24:15.267324Z"
    },
    "collapsed": true
   },
   "outputs": [],
   "source": [
    "# for i in range(2):\n",
    "#     print(data[i]['title'])\n",
    "#     # print(data[i]['text'])\n",
    "#     print(strip(data[i]['text']))\n",
    "#     print()"
   ]
  },
  {
   "cell_type": "code",
   "execution_count": 25,
   "metadata": {
    "collapsed": true
   },
   "outputs": [],
   "source": [
    "# Generate raw text corpus\n",
    "\n",
    "MIN_TEXT_SIZE = 5000\n",
    "\n",
    "count_processed = 0\n",
    "count_skipped = 0\n",
    "\n",
    "with open('input.txt', 'w') as f:\n",
    "    for article in data:\n",
    "        if len(article['text']) < MIN_TEXT_SIZE or len(article['text']) >= MAX_ARTICLE_SIZE:\n",
    "            count_skipped += 1\n",
    "            continue # skip too small, too large articles\n",
    "\n",
    "        count_processed += 1\n",
    "        text = strip(article['text'])\n",
    "        #f.write(\"%s\\n%s\\n\\n\\n\" % (article['title'].encode('utf-8'), text.encode('utf-8')))\n",
    "        f.write(text.encode('utf-8'))\n",
    "        f.write(\"\\n\")\n",
    "        # print(article['title'])\n",
    "        # print(article['text'])\n",
    "        # print(text)\n",
    "        "
   ]
  },
  {
   "cell_type": "code",
   "execution_count": 17,
   "metadata": {
    "scrolled": true
   },
   "outputs": [
    {
     "name": "stdout",
     "output_type": "stream",
     "text": [
      "('count_processed', 99739)\n",
      "('count_skipped', 831290)\n"
     ]
    }
   ],
   "source": [
    "print('count_processed',count_processed)\n",
    "print('count_skipped',count_skipped)"
   ]
  },
  {
   "cell_type": "code",
   "execution_count": 18,
   "metadata": {
    "collapsed": true
   },
   "outputs": [],
   "source": [
    "del data"
   ]
  },
  {
   "cell_type": "code",
   "execution_count": null,
   "metadata": {
    "collapsed": true
   },
   "outputs": [],
   "source": []
  },
  {
   "cell_type": "code",
   "execution_count": null,
   "metadata": {
    "collapsed": true
   },
   "outputs": [],
   "source": []
  },
  {
   "cell_type": "code",
   "execution_count": 19,
   "metadata": {
    "collapsed": true
   },
   "outputs": [],
   "source": [
    "import re\n",
    "\n",
    "def remove_non_words(line):\n",
    "    re_flags = re.IGNORECASE # re.UNICODE | re.IGNORECASE\n",
    "    # 영문자,숫자,일부특수문자 제외 모든 문자\n",
    "    # 숫자사이에 있는 `.' 를 제외한 `.'\n",
    "    re_nonwords = r'([^A-Za-z0-9가-힣%. ]|[.,](?!\\d))+'\n",
    "    line = re.sub(re_nonwords, ' ', line, flags=re_flags)\n",
    "    line = re.sub(r'\\s+', ' ', line, flags=re_flags) # collapse repetitive spaces\n",
    "    line = line.strip() # remove leading/training spaces\n",
    "    return line\n"
   ]
  },
  {
   "cell_type": "code",
   "execution_count": 20,
   "metadata": {
    "collapsed": true
   },
   "outputs": [],
   "source": [
    "from scan_count_words import parse_words"
   ]
  },
  {
   "cell_type": "code",
   "execution_count": 21,
   "metadata": {
    "collapsed": true
   },
   "outputs": [],
   "source": [
    "import sqlite3"
   ]
  },
  {
   "cell_type": "code",
   "execution_count": 22,
   "metadata": {
    "scrolled": false
   },
   "outputs": [
    {
     "name": "stderr",
     "output_type": "stream",
     "text": [
      "100%|██████████| 14074786/14074786 [4:09:48<00:00, 939.07it/s]   \n",
      "close\n",
      "하 13642345\n",
      "이 11623000\n",
      "있 5759558\n",
      "되 3968537\n",
      "것 2821834\n",
      "수 2276173\n",
      "들 2203254\n",
      "보 1579732\n",
      "않 1542032\n",
      "없 1512106\n",
      "적 1490806\n",
      "년 1442500\n",
      "지 1334300\n",
      "주 1330907\n",
      "그 1141599\n",
      "말 1055286\n",
      "때문 1036804\n",
      "때 1007790\n",
      "아니 910671\n",
      "등 885430\n",
      "중 883856\n",
      "가 837969\n",
      "나오 818166\n",
      "경우 805228\n",
      "받 793236\n",
      "1 768671\n",
      "오 745978\n",
      "크 726172\n",
      "2 697839\n",
      "보이 686578\n",
      "같 678108\n",
      "자신 652138\n",
      "내 645126\n",
      "사람 634242\n",
      "사용 601564\n",
      "이후 597472\n",
      "많 595818\n",
      "정도 594158\n",
      "번 581530\n",
      "쓰 579770\n",
      "대하 575554\n",
      "위하 559966\n",
      "후 546128\n",
      "일 540972\n",
      "나 540472\n",
      "3 513411\n",
      "시 509227\n",
      "만들 508302\n",
      "좋 506614\n",
      "가지 495958\n",
      "공격 483446\n",
      "위 483438\n",
      "전 482200\n",
      "알 477444\n",
      "버리 469288\n",
      "못하 465338\n",
      "등장 455628\n",
      "한 453162\n",
      "명 444426\n",
      "편 442736\n",
      "안 442006\n",
      "개 430584\n",
      "사실 421778\n",
      "게임 413804\n",
      "타 412866\n",
      "대 405904\n",
      "하나 386080\n",
      "리 385305\n",
      "점 376784\n",
      "4 374438\n",
      "시작 367586\n",
      "문제 356650\n",
      "캐릭터 354784\n",
      "모습 353276\n",
      "만 348889\n",
      "두 338262\n",
      "높 337676\n",
      "생각 334920\n",
      "이상 329674\n",
      "시간 326366\n",
      "그렇 321398\n",
      ". 317832\n",
      "분류 315576\n",
      "이름 314594\n",
      "화 311828\n",
      "따르 309658\n",
      "자 305476\n",
      "뒤 303064\n",
      "더 298618\n",
      "팀 298308\n",
      "성 297504\n",
      "능력 295786\n",
      "살 295736\n",
      "추가 293058\n",
      "상대 292184\n",
      "5 287585\n",
      "상황 286472\n",
      "시키 284691\n",
      "듯 282754\n",
      "당시 282246\n"
     ]
    }
   ],
   "source": [
    "with sqlite3.connect('wordscount.db') as db:\n",
    "    with open('text17.txt','w') as output:\n",
    "        parse_words('input.txt',output,db)"
   ]
  },
  {
   "cell_type": "code",
   "execution_count": null,
   "metadata": {
    "collapsed": true
   },
   "outputs": [],
   "source": []
  },
  {
   "cell_type": "code",
   "execution_count": 1,
   "metadata": {
    "ExecuteTime": {
     "end_time": "2017-10-12T13:00:39.656104Z",
     "start_time": "2017-10-12T13:00:39.501620Z"
    }
   },
   "outputs": [
    {
     "name": "stdout",
     "output_type": "stream",
     "text": [
      "항성 대하 베텔게우스 항목 참조 \r\n",
      "틀 루비 글자 루비 \r\n",
      "당신 나태 \r\n",
      "틀 루비 글자 루비 틀 루비 글자 루비 \r\n",
      "뇌 떨리 아아 아아 아아 아아 아아 \r\n",
      "목차 \r\n",
      "개요 \r\n",
      "라이트노벨 제 시작 세계 생활 등장인물 성우 마츠오카 시츠 이 \r\n",
      "마녀 교 죄 주교 나태 담당 나이 세 키 몸무게 내외 최초 일 때 심 녹색 머리 단발 같 길이 자르 벌레 감정 없 눈 가지 깡마르 인물 고개 기울이 허리 굽히 자세 말 것 좋아하 스스로 육체 자학 것 즐기 완전 변 절 \r\n",
      "이름 유래 오리온자리 알파 이 베텔게우스 베텔게우스 어원 이 아랍어 야드 알 자 우자 가운데 있 것 오리온 의 팔 늘 그 권능 관련 있 \r\n"
     ]
    }
   ],
   "source": [
    "!head -10 text17.txt"
   ]
  },
  {
   "cell_type": "code",
   "execution_count": null,
   "metadata": {
    "collapsed": true
   },
   "outputs": [],
   "source": []
  },
  {
   "cell_type": "code",
   "execution_count": 30,
   "metadata": {
    "collapsed": true
   },
   "outputs": [],
   "source": [
    "# import sys\n",
    "# reload(sys.modules[read_words_db.__module__])"
   ]
  },
  {
   "cell_type": "code",
   "execution_count": 31,
   "metadata": {
    "collapsed": true
   },
   "outputs": [],
   "source": [
    "from scan_txt_to_npy import read_words_db, dump_words, scan_txt_to_npy"
   ]
  },
  {
   "cell_type": "code",
   "execution_count": 32,
   "metadata": {
    "collapsed": true
   },
   "outputs": [],
   "source": [
    "words, words_index = read_words_db('wordscount.db',50000)"
   ]
  },
  {
   "cell_type": "code",
   "execution_count": 33,
   "metadata": {
    "collapsed": true
   },
   "outputs": [],
   "source": [
    "dump_words(words,'vocab_50k.tsv')"
   ]
  },
  {
   "cell_type": "code",
   "execution_count": null,
   "metadata": {
    "collapsed": true,
    "scrolled": false
   },
   "outputs": [],
   "source": [
    "num_words = scan_txt_to_npy('text17.txt', words_index, 'text17.npy')\n",
    "num_words"
   ]
  },
  {
   "cell_type": "code",
   "execution_count": null,
   "metadata": {
    "collapsed": true
   },
   "outputs": [],
   "source": []
  },
  {
   "cell_type": "code",
   "execution_count": null,
   "metadata": {
    "collapsed": true
   },
   "outputs": [],
   "source": []
  },
  {
   "cell_type": "code",
   "execution_count": null,
   "metadata": {
    "collapsed": true
   },
   "outputs": [],
   "source": []
  }
 ],
 "metadata": {
  "kernelspec": {
   "display_name": "Python 2",
   "language": "python",
   "name": "python2"
  },
  "language_info": {
   "codemirror_mode": {
    "name": "ipython",
    "version": 2
   },
   "file_extension": ".py",
   "mimetype": "text/x-python",
   "name": "python",
   "nbconvert_exporter": "python",
   "pygments_lexer": "ipython2",
   "version": "2.7.13"
  }
 },
 "nbformat": 4,
 "nbformat_minor": 1
}
